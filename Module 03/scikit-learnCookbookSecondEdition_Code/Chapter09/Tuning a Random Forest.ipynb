{
 "cells": [
  {
   "cell_type": "code",
   "execution_count": null,
   "metadata": {
    "collapsed": true
   },
   "outputs": [],
   "source": [
    "Tuning a Random Forest"
   ]
  },
  {
   "cell_type": "code",
   "execution_count": 1,
   "metadata": {
    "collapsed": false
   },
   "outputs": [
    {
     "data": {
      "text/plain": [
       "<matplotlib.axes._subplots.AxesSubplot at 0xa45deb8>"
      ]
     },
     "execution_count": 1,
     "metadata": {},
     "output_type": "execute_result"
    },
    {
     "data": {
      "image/png": "[encoded data removed]",
      "text/plain": [
       "<matplotlib.figure.Figure at 0xa45d9b0>"
      ]
     },
     "metadata": {},
     "output_type": "display_data"
    }
   ],
   "source": [
    "%matplotlib inline\n",
    "\n",
    "import numpy as np\n",
    "import pandas as pd\n",
    "import matplotlib.pyplot as plt\n",
    "\n",
    "from sklearn.datasets import fetch_california_housing\n",
    "\n",
    "cali_housing = fetch_california_housing()\n",
    "\n",
    "X = cali_housing.data\n",
    "y = cali_housing.target\n",
    "\n",
    "pd.Series((y)).hist(bins=50)"
   ]
  },
  {
   "cell_type": "code",
   "execution_count": 2,
   "metadata": {
    "collapsed": false
   },
   "outputs": [
    {
     "data": {
      "text/plain": [
       "<matplotlib.axes._subplots.AxesSubplot at 0xa6741d0>"
      ]
     },
     "execution_count": 2,
     "metadata": {},
     "output_type": "execute_result"
    },
    {
     "data": {
      "image/png": "[encoded data removed]",
      "text/plain": [
       "<matplotlib.figure.Figure at 0x3e3b6a0>"
      ]
     },
     "metadata": {},
     "output_type": "display_data"
    }
   ],
   "source": [
    "bins = np.arange(6)\n",
    "binned_y = np.digitize(y, bins)\n",
    "pd.Series(binned_y).hist(bins=50)"
   ]
  },
  {
   "cell_type": "code",
   "execution_count": 3,
   "metadata": {
    "collapsed": true
   },
   "outputs": [],
   "source": [
    "from sklearn.model_selection import train_test_split\n",
    "X_train, X_test, y_train, y_test = train_test_split(X, y, test_size=0.2,stratify=binned_y)"
   ]
  },
  {
   "cell_type": "code",
   "execution_count": 4,
   "metadata": {
    "collapsed": false
   },
   "outputs": [
    {
     "data": {
      "text/plain": [
       "GridSearchCV(cv=3, error_score='raise',\n",
       "       estimator=RandomForestRegressor(bootstrap=True, criterion='mse', max_depth=None,\n",
       "           max_features='auto', max_leaf_nodes=None,\n",
       "           min_impurity_decrease=0.0, min_impurity_split=None,\n",
       "           min_samples_leaf=1, min_samples_split=2,\n",
       "           min_weight_fraction_leaf=0.0, n_estimators=10, n_jobs=1,\n",
       "           oob_score=False, random_state=None, verbose=0, warm_start=False),\n",
       "       fit_params=None, iid=True, n_jobs=1,\n",
       "       param_grid={'max_features': ['sqrt', 'log2', 1.0], 'n_estimators': [50], 'min_samples_leaf': [1, 2, 7, 11]},\n",
       "       pre_dispatch='2*n_jobs', refit=True, return_train_score=True,\n",
       "       scoring=None, verbose=0)"
      ]
     },
     "execution_count": 4,
     "metadata": {},
     "output_type": "execute_result"
    }
   ],
   "source": [
    "from sklearn.ensemble import RandomForestRegressor\n",
    "\n",
    "rft = RandomForestRegressor()\n",
    "\n",
    "from sklearn.model_selection import GridSearchCV\n",
    "\n",
    "param_grid = {'max_features': ['sqrt','log2',1.0],\n",
    " 'min_samples_leaf': [1,2,7,11],\n",
    " 'n_estimators': [50]\n",
    " }\n",
    "\n",
    "pre_gs_inst = GridSearchCV(rft, param_grid = param_grid,cv=3) #changed from cv=10 to speed up computation\n",
    "\n",
    "pre_gs_inst.fit(X_train, y_train)"
   ]
  },
  {
   "cell_type": "code",
   "execution_count": 5,
   "metadata": {
    "collapsed": false
   },
   "outputs": [
    {
     "data": {
      "text/plain": [
       "{'max_features': 'log2', 'min_samples_leaf': 2, 'n_estimators': 50}"
      ]
     },
     "execution_count": 5,
     "metadata": {},
     "output_type": "execute_result"
    }
   ],
   "source": [
    "pre_gs_inst.best_params_"
   ]
  },
  {
   "cell_type": "code",
   "execution_count": 7,
   "metadata": {
    "collapsed": false
   },
   "outputs": [
    {
     "data": {
      "text/plain": [
       "RandomForestRegressor(bootstrap=True, criterion='mse', max_depth=None,\n",
       "           max_features='log2', max_leaf_nodes=None,\n",
       "           min_impurity_decrease=0.0, min_impurity_split=None,\n",
       "           min_samples_leaf=2, min_samples_split=2,\n",
       "           min_weight_fraction_leaf=0.0, n_estimators=1000, n_jobs=1,\n",
       "           oob_score=False, random_state=None, verbose=0, warm_start=False)"
      ]
     },
     "execution_count": 7,
     "metadata": {},
     "output_type": "execute_result"
    }
   ],
   "source": [
    "rs_rft = RandomForestRegressor(**{'max_features': 'log2', 'min_samples_leaf': 2, 'n_estimators': 1000})\n",
    "\n",
    "rs_rft.fit(X_train, y_train)"
   ]
  },
  {
   "cell_type": "code",
   "execution_count": 8,
   "metadata": {
    "collapsed": false
   },
   "outputs": [
    {
     "data": {
      "text/plain": [
       "0.82099515511365539"
      ]
     },
     "execution_count": 8,
     "metadata": {},
     "output_type": "execute_result"
    }
   ],
   "source": [
    "rs_rft.score(X_test, y_test)"
   ]
  },
  {
   "cell_type": "code",
   "execution_count": 9,
   "metadata": {
    "collapsed": false
   },
   "outputs": [
    {
     "data": {
      "text/plain": [
       "0.82099515511365539"
      ]
     },
     "execution_count": 9,
     "metadata": {},
     "output_type": "execute_result"
    }
   ],
   "source": [
    "y_pred = rs_rft.predict(X_test)\n",
    "\n",
    "from sklearn.metrics import r2_score\n",
    "r2_score(y_test, y_pred)"
   ]
  },
  {
   "cell_type": "code",
   "execution_count": 10,
   "metadata": {
    "collapsed": false
   },
   "outputs": [
    {
     "data": {
      "text/plain": [
       "0.32253091494598596"
      ]
     },
     "execution_count": 10,
     "metadata": {},
     "output_type": "execute_result"
    }
   ],
   "source": [
    "from sklearn.metrics import mean_absolute_error\n",
    "mean_absolute_error(y_test, y_pred)"
   ]
  },
  {
   "cell_type": "code",
   "execution_count": 11,
   "metadata": {
    "collapsed": true
   },
   "outputs": [],
   "source": [
    "res_dict = pre_gs_inst.cv_results_\n",
    "\n",
    "results_df = pd.DataFrame()\n",
    "for key in res_dict.keys():\n",
    "     results_df[key] = res_dict[key]"
   ]
  },
  {
   "cell_type": "code",
   "execution_count": 12,
   "metadata": {
    "collapsed": false
   },
   "outputs": [
    {
     "data": {
      "text/html": [
       "<div>\n",
       "<style>\n",
       "    .dataframe thead tr:only-child th {\n",
       "        text-align: right;\n",
       "    }\n",
       "\n",
       "    .dataframe thead th {\n",
       "        text-align: left;\n",
       "    }\n",
       "\n",
       "    .dataframe tbody tr th {\n",
       "        vertical-align: top;\n",
       "    }\n",
       "</style>\n",
       "<table border=\"1\" class=\"dataframe\">\n",
       "  <thead>\n",
       "    <tr style=\"text-align: right;\">\n",
       "      <th></th>\n",
       "      <th>param_min_samples_leaf</th>\n",
       "      <th>param_max_features</th>\n",
       "      <th>param_n_estimators</th>\n",
       "      <th>mean_test_score</th>\n",
       "    </tr>\n",
       "  </thead>\n",
       "  <tbody>\n",
       "    <tr>\n",
       "      <th>0</th>\n",
       "      <td>1</td>\n",
       "      <td>sqrt</td>\n",
       "      <td>50</td>\n",
       "      <td>0.806128</td>\n",
       "    </tr>\n",
       "    <tr>\n",
       "      <th>1</th>\n",
       "      <td>2</td>\n",
       "      <td>sqrt</td>\n",
       "      <td>50</td>\n",
       "      <td>0.804887</td>\n",
       "    </tr>\n",
       "    <tr>\n",
       "      <th>2</th>\n",
       "      <td>7</td>\n",
       "      <td>sqrt</td>\n",
       "      <td>50</td>\n",
       "      <td>0.790066</td>\n",
       "    </tr>\n",
       "    <tr>\n",
       "      <th>3</th>\n",
       "      <td>11</td>\n",
       "      <td>sqrt</td>\n",
       "      <td>50</td>\n",
       "      <td>0.777692</td>\n",
       "    </tr>\n",
       "    <tr>\n",
       "      <th>4</th>\n",
       "      <td>1</td>\n",
       "      <td>log2</td>\n",
       "      <td>50</td>\n",
       "      <td>0.807654</td>\n",
       "    </tr>\n",
       "    <tr>\n",
       "      <th>5</th>\n",
       "      <td>2</td>\n",
       "      <td>log2</td>\n",
       "      <td>50</td>\n",
       "      <td>0.808955</td>\n",
       "    </tr>\n",
       "    <tr>\n",
       "      <th>6</th>\n",
       "      <td>7</td>\n",
       "      <td>log2</td>\n",
       "      <td>50</td>\n",
       "      <td>0.794156</td>\n",
       "    </tr>\n",
       "    <tr>\n",
       "      <th>7</th>\n",
       "      <td>11</td>\n",
       "      <td>log2</td>\n",
       "      <td>50</td>\n",
       "      <td>0.789136</td>\n",
       "    </tr>\n",
       "    <tr>\n",
       "      <th>8</th>\n",
       "      <td>1</td>\n",
       "      <td>1</td>\n",
       "      <td>50</td>\n",
       "      <td>0.793475</td>\n",
       "    </tr>\n",
       "    <tr>\n",
       "      <th>9</th>\n",
       "      <td>2</td>\n",
       "      <td>1</td>\n",
       "      <td>50</td>\n",
       "      <td>0.794628</td>\n",
       "    </tr>\n",
       "    <tr>\n",
       "      <th>10</th>\n",
       "      <td>7</td>\n",
       "      <td>1</td>\n",
       "      <td>50</td>\n",
       "      <td>0.786672</td>\n",
       "    </tr>\n",
       "    <tr>\n",
       "      <th>11</th>\n",
       "      <td>11</td>\n",
       "      <td>1</td>\n",
       "      <td>50</td>\n",
       "      <td>0.779913</td>\n",
       "    </tr>\n",
       "  </tbody>\n",
       "</table>\n",
       "</div>"
      ],
      "text/plain": [
       "   param_min_samples_leaf param_max_features param_n_estimators  \\\n",
       "0                       1               sqrt                 50   \n",
       "1                       2               sqrt                 50   \n",
       "2                       7               sqrt                 50   \n",
       "3                      11               sqrt                 50   \n",
       "4                       1               log2                 50   \n",
       "5                       2               log2                 50   \n",
       "6                       7               log2                 50   \n",
       "7                      11               log2                 50   \n",
       "8                       1                  1                 50   \n",
       "9                       2                  1                 50   \n",
       "10                      7                  1                 50   \n",
       "11                     11                  1                 50   \n",
       "\n",
       "    mean_test_score  \n",
       "0          0.806128  \n",
       "1          0.804887  \n",
       "2          0.790066  \n",
       "3          0.777692  \n",
       "4          0.807654  \n",
       "5          0.808955  \n",
       "6          0.794156  \n",
       "7          0.789136  \n",
       "8          0.793475  \n",
       "9          0.794628  \n",
       "10         0.786672  \n",
       "11         0.779913  "
      ]
     },
     "execution_count": 12,
     "metadata": {},
     "output_type": "execute_result"
    }
   ],
   "source": [
    "param_cols = [x for x in results_df.columns if 'param' in x and x is not 'params']\n",
    "focus_cols = param_cols + ['mean_test_score']\n",
    "\n",
    "results_df[focus_cols]"
   ]
  },
  {
   "cell_type": "code",
   "execution_count": 13,
   "metadata": {
    "collapsed": false
   },
   "outputs": [
    {
     "name": "stdout",
     "output_type": "stream",
     "text": [
      "('param_min_samples_leaf', 1, 0.8024192191191825, 0.007783241825132443)\n",
      "('param_min_samples_leaf', 2, 0.8028235325041541, 0.00738317306417046)\n",
      "('param_min_samples_leaf', 7, 0.7902980290838647, 0.003747006566392743)\n",
      "('param_min_samples_leaf', 11, 0.7822471901387741, 0.006068451223665355)\n",
      "('param_max_features', 1.0, 0.7886721884221682, 0.006813342986028812)\n",
      "('param_max_features', 'log2', 0.7999754116227418, 0.009848313094719365)\n",
      "('param_max_features', 'sqrt', 0.7946933780895719, 0.013479682396875855)\n",
      "('param_n_estimators', 50, 0.794446992711494, 0.010579689791395532)\n"
     ]
    }
   ],
   "source": [
    "for param in param_cols:\n",
    "    for key,group in results_df.groupby(param):\n",
    "        print (param, key, group['mean_test_score'].mean(),group['mean_test_score'].std())"
   ]
  },
  {
   "cell_type": "code",
   "execution_count": 14,
   "metadata": {
    "collapsed": false
   },
   "outputs": [
    {
     "name": "stderr",
     "output_type": "stream",
     "text": [
      "C:\\Users\\jdavila\\Anaconda27\\lib\\site-packages\\sklearn\\model_selection\\_search.py:747: DeprecationWarning: The grid_scores_ attribute was deprecated in version 0.18 in favor of the more elaborate cv_results_ attribute. The grid_scores_ attribute will not be available from 0.20\n",
      "  DeprecationWarning)\n"
     ]
    },
    {
     "data": {
      "text/plain": [
       "[mean: 0.80813, std: 0.00630, params: {'n_estimators': 100, 'max_features': 'sqrt', 'oob_score': True, 'min_samples_leaf': 2},\n",
       " mean: 0.80653, std: 0.00757, params: {'n_estimators': 50, 'max_features': 'log2', 'oob_score': True, 'min_samples_leaf': 1},\n",
       " mean: 0.80570, std: 0.00536, params: {'n_estimators': 50, 'max_features': 'sqrt', 'oob_score': True, 'min_samples_leaf': 2},\n",
       " mean: 0.80425, std: 0.00839, params: {'n_estimators': 100, 'max_features': 'sqrt', 'oob_score': True, 'min_samples_leaf': 3},\n",
       " mean: 0.79684, std: 0.00838, params: {'n_estimators': 100, 'max_features': 'log2', 'oob_score': False, 'min_samples_leaf': 7},\n",
       " mean: 0.79654, std: 0.00659, params: {'n_estimators': 50, 'max_features': 'log2', 'oob_score': True, 'min_samples_leaf': 7},\n",
       " mean: 0.79496, std: 0.01147, params: {'n_estimators': 50, 'max_features': 1.0, 'oob_score': True, 'min_samples_leaf': 2},\n",
       " mean: 0.79345, std: 0.01063, params: {'n_estimators': 50, 'max_features': 1.0, 'oob_score': True, 'min_samples_leaf': 3},\n",
       " mean: 0.79194, std: 0.01053, params: {'n_estimators': 50, 'max_features': 1.0, 'oob_score': False, 'min_samples_leaf': 1},\n",
       " mean: 0.78773, std: 0.00908, params: {'n_estimators': 50, 'max_features': 'log2', 'oob_score': False, 'min_samples_leaf': 11},\n",
       " mean: 0.78665, std: 0.01322, params: {'n_estimators': 50, 'max_features': 1.0, 'oob_score': False, 'min_samples_leaf': 7},\n",
       " mean: 0.78164, std: 0.00493, params: {'n_estimators': 50, 'max_features': 'sqrt', 'oob_score': True, 'min_samples_leaf': 11},\n",
       " mean: 0.78133, std: 0.00770, params: {'n_estimators': 100, 'max_features': 'sqrt', 'oob_score': False, 'min_samples_leaf': 11},\n",
       " mean: 0.78132, std: 0.00720, params: {'n_estimators': 100, 'max_features': 'sqrt', 'oob_score': True, 'min_samples_leaf': 11},\n",
       " mean: 0.78071, std: 0.01551, params: {'n_estimators': 50, 'max_features': 1.0, 'oob_score': True, 'min_samples_leaf': 11}]"
      ]
     },
     "execution_count": 14,
     "metadata": {},
     "output_type": "execute_result"
    }
   ],
   "source": [
    "from sklearn.model_selection import RandomizedSearchCV\n",
    "\n",
    "param_dist = {'max_features' : ['sqrt','log2',1.0], \n",
    " 'min_samples_leaf' : [1, 2, 3, 7, 11],\n",
    " 'n_estimators': [50, 100],\n",
    " 'oob_score': [True, False]}\n",
    "\n",
    "pre_gs_inst = RandomizedSearchCV(RandomForestRegressor(warm_start=True), \n",
    " param_distributions = param_dist,\n",
    " cv=3, \n",
    " n_iter = 15)\n",
    "\n",
    "pre_gs_inst.fit(X_train, y_train)\n",
    "\n",
    "sorted(pre_gs_inst.grid_scores_, key = lambda x:x.mean_validation_score, reverse = True)"
   ]
  },
  {
   "cell_type": "code",
   "execution_count": 15,
   "metadata": {
    "collapsed": false
   },
   "outputs": [
    {
     "data": {
      "text/plain": [
       "RandomForestRegressor(bootstrap=True, criterion='mse', max_depth=None,\n",
       "           max_features='sqrt', max_leaf_nodes=None,\n",
       "           min_impurity_decrease=0.0, min_impurity_split=None,\n",
       "           min_samples_leaf=2, min_samples_split=2,\n",
       "           min_weight_fraction_leaf=0.0, n_estimators=1000, n_jobs=-1,\n",
       "           oob_score=True, random_state=None, verbose=0, warm_start=True)"
      ]
     },
     "execution_count": 15,
     "metadata": {},
     "output_type": "execute_result"
    }
   ],
   "source": [
    "rs_rft = RandomForestRegressor(n_jobs=-1, warm_start=True,\n",
    " max_features = 'sqrt',\n",
    " min_samples_leaf = 2,\n",
    " oob_score = True,\n",
    " n_estimators = 1000)\n",
    "rs_rft.fit(X_train, y_train)"
   ]
  },
  {
   "cell_type": "code",
   "execution_count": 16,
   "metadata": {
    "collapsed": false
   },
   "outputs": [
    {
     "data": {
      "text/plain": [
       "0.81772579447544591"
      ]
     },
     "execution_count": 16,
     "metadata": {},
     "output_type": "execute_result"
    }
   ],
   "source": [
    "y_pred = rs_rft.predict(X_test)\n",
    "from sklearn.metrics import r2_score\n",
    "r2_score(y_test, y_pred)"
   ]
  },
  {
   "cell_type": "code",
   "execution_count": 17,
   "metadata": {
    "collapsed": false
   },
   "outputs": [
    {
     "name": "stdout",
     "output_type": "stream",
     "text": [
      "R-squared 0.817725794475\n",
      "MAE :  0.330175719471\n",
      "MAPE :  0.188636567659\n"
     ]
    }
   ],
   "source": [
    "y_pred = rs_rft.predict(X_test)\n",
    "\n",
    "from sklearn.metrics import r2_score, mean_absolute_error\n",
    "\n",
    "print \"R-squared\",r2_score(y_test, y_pred)\n",
    "print \"MAE : \",mean_absolute_error(y_test, y_pred)\n",
    "print \"MAPE : \",(np.abs(y_test - y_pred)/y_test).mean()"
   ]
  },
  {
   "cell_type": "code",
   "execution_count": 18,
   "metadata": {
    "collapsed": false
   },
   "outputs": [
    {
     "data": {
      "text/plain": [
       "{'max_features': 'log2',\n",
       " 'min_samples_leaf': 1,\n",
       " 'n_estimators': 50,\n",
       " 'oob_score': False}"
      ]
     },
     "execution_count": 18,
     "metadata": {},
     "output_type": "execute_result"
    }
   ],
   "source": [
    "from sklearn.ensemble import ExtraTreesRegressor\n",
    "from sklearn.model_selection import RandomizedSearchCV\n",
    "\n",
    "\n",
    "param_dist = {'max_features' : ['sqrt','log2',1.0],\n",
    "'min_samples_leaf' : [1, 2, 3, 7, 11],\n",
    "'n_estimators': [50, 100],\n",
    "'oob_score': [True, False]}\n",
    "\n",
    "pre_gs_inst = RandomizedSearchCV(ExtraTreesRegressor(warm_start=True,bootstrap=True),\n",
    "param_distributions = param_dist,\n",
    "cv=3,\n",
    "n_iter = 15)\n",
    "\n",
    "pre_gs_inst.fit(X_train, y_train)\n",
    "\n",
    "pre_gs_inst.best_params_"
   ]
  },
  {
   "cell_type": "code",
   "execution_count": 19,
   "metadata": {
    "collapsed": true
   },
   "outputs": [],
   "source": [
    "import copy\n",
    "\n",
    "extra_best_params = copy.deepcopy(pre_gs_inst.best_params_)\n",
    "\n",
    "extra_best_params['n_estimators'] = 1000\n",
    "extra_best_params['warm_start'] = True\n",
    "extra_best_params['bootstrap'] = True\n",
    "\n",
    "rs_etr = ExtraTreesRegressor(**extra_best_params)"
   ]
  },
  {
   "cell_type": "code",
   "execution_count": 20,
   "metadata": {
    "collapsed": false
   },
   "outputs": [
    {
     "data": {
      "text/plain": [
       "ExtraTreesRegressor(bootstrap=True, criterion='mse', max_depth=None,\n",
       "          max_features='log2', max_leaf_nodes=None,\n",
       "          min_impurity_decrease=0.0, min_impurity_split=None,\n",
       "          min_samples_leaf=1, min_samples_split=2,\n",
       "          min_weight_fraction_leaf=0.0, n_estimators=1000, n_jobs=1,\n",
       "          oob_score=False, random_state=None, verbose=0, warm_start=True)"
      ]
     },
     "execution_count": 20,
     "metadata": {},
     "output_type": "execute_result"
    }
   ],
   "source": [
    "rs_etr.fit(X_train, y_train)"
   ]
  },
  {
   "cell_type": "code",
   "execution_count": 21,
   "metadata": {
    "collapsed": false
   },
   "outputs": [
    {
     "data": {
      "text/plain": [
       "0.81995468995123055"
      ]
     },
     "execution_count": 21,
     "metadata": {},
     "output_type": "execute_result"
    }
   ],
   "source": [
    "y_pred = rs_etr.predict(X_test)\n",
    "from sklearn.metrics import r2_score\n",
    "r2_score(y_test, y_pred)"
   ]
  },
  {
   "cell_type": "code",
   "execution_count": 22,
   "metadata": {
    "collapsed": false
   },
   "outputs": [
    {
     "name": "stdout",
     "output_type": "stream",
     "text": [
      "R-squared 0.819954689951\n",
      "MAE :  0.326634543909\n",
      "MAPE :  0.184605707508\n"
     ]
    }
   ],
   "source": [
    "y_pred = rs_etr.predict(X_test)\n",
    "\n",
    "from sklearn.metrics import r2_score, mean_absolute_error\n",
    "\n",
    "print \"R-squared\",r2_score(y_test, y_pred)\n",
    "print \"MAE : \",mean_absolute_error(y_test, y_pred)\n",
    "print \"MAPE : \",(np.abs(y_test - y_pred)/y_test).mean()"
   ]
  },
  {
   "cell_type": "code",
   "execution_count": null,
   "metadata": {
    "collapsed": true
   },
   "outputs": [],
   "source": [
    "#In Linux command line: install pyearth\n",
    "git clone git://github.com/scikit-learn-contrib/py-earth.git\n",
    "cd py-earth\n",
    "sudo python setup.py install"
   ]
  },
  {
   "cell_type": "code",
   "execution_count": null,
   "metadata": {
    "collapsed": true
   },
   "outputs": [],
   "source": [
    "from pyearth import Earth\n",
    "earth_model = Earth().fit(X_train, y_train)\n",
    "\n",
    "from sklearn.metrics import r2_score\n",
    "y_pred = earth_model.predict(X_test)\n",
    "r2_score(y_test, y_pred)\n",
    "\n",
    "# 0.70532965099191069  #: In Linux"
   ]
  },
  {
   "cell_type": "code",
   "execution_count": null,
   "metadata": {
    "collapsed": true
   },
   "outputs": [],
   "source": [
    "from sklearn.pipeline import Pipeline\n",
    "from sklearn.linear_model import BayesianRidge\n",
    "earth_pipeline = Pipeline([('earth', Earth()), ('br',BayesianRidge())]).fit(X_train, y_train)\n",
    "y_pred = earth_pipeline.predict(X_test)\n",
    "r2_score(y_test, y_pred)\n",
    "# 0.70538218833022714  #: In Linux"
   ]
  }
 ],
 "metadata": {
  "kernelspec": {
   "display_name": "Python 2",
   "language": "python",
   "name": "python2"
  },
  "language_info": {
   "codemirror_mode": {
    "name": "ipython",
    "version": 2
   },
   "file_extension": ".py",
   "mimetype": "text/x-python",
   "name": "python",
   "nbconvert_exporter": "python",
   "pygments_lexer": "ipython2",
   "version": "2.7.11"
  }
 },
 "nbformat": 4,
 "nbformat_minor": 0
}
