{
 "cells": [
  {
   "cell_type": "code",
   "execution_count": null,
   "metadata": {
    "collapsed": true
   },
   "outputs": [],
   "source": [
    "Tuning Gradient Boosting Trees"
   ]
  },
  {
   "cell_type": "code",
   "execution_count": 2,
   "metadata": {
    "collapsed": false
   },
   "outputs": [],
   "source": [
    "#Load this line within an IPython notebook to visualize within the notebook\n",
    "%matplotlib inline \n",
    "\n",
    "from __future__ import division #Load within Python 2.7 for regular division\n",
    "import numpy as np\n",
    "import pandas as pd\n",
    "import matplotlib.pyplot as plt\n",
    "\n",
    "from sklearn.datasets import fetch_california_housing\n",
    "\n",
    "cali_housing = fetch_california_housing()\n",
    "\n",
    "X = cali_housing.data\n",
    "y = cali_housing.target\n",
    "\n",
    "#bin output variable to split training and testing sets into two similar sets\n",
    "bins = np.arange(6)\n",
    "binned_y = np.digitize(y, bins)\n",
    "\n",
    "from sklearn.model_selection import train_test_split\n",
    "X_train, X_test, y_train, y_test = train_test_split(X, y, test_size=0.2,stratify=binned_y)"
   ]
  },
  {
   "cell_type": "code",
   "execution_count": 3,
   "metadata": {
    "collapsed": false
   },
   "outputs": [
    {
     "data": {
      "text/plain": [
       "RandomizedSearchCV(cv=3, error_score='raise',\n",
       "          estimator=GradientBoostingRegressor(alpha=0.9, criterion='friedman_mse', init=None,\n",
       "             learning_rate=0.1, loss='ls', max_depth=3, max_features=None,\n",
       "             max_leaf_nodes=None, min_impurity_decrease=0.0,\n",
       "             min_impurity_split=None, min_samples_leaf=1,\n",
       "             min_samples_split=2, min_weight_fraction_leaf=0.0,\n",
       "             n_estimators=100, presort='auto', random_state=None,\n",
       "             subsample=1.0, verbose=0, warm_start=True),\n",
       "          fit_params=None, iid=True, n_iter=30, n_jobs=-1,\n",
       "          param_distributions={'loss': ['ls', 'huber'], 'learning_rate': [0.0001, 0.001, 0.01, 0.05, 0.1, 0.3], 'min_samples_leaf': [2, 3, 5, 10], 'n_estimators': [50, 100], 'max_features': ['log2', 1.0], 'max_depth': [3, 5, 7, 10]},\n",
       "          pre_dispatch='2*n_jobs', random_state=None, refit=True,\n",
       "          return_train_score=True, scoring=None, verbose=0)"
      ]
     },
     "execution_count": 3,
     "metadata": {},
     "output_type": "execute_result"
    }
   ],
   "source": [
    "from sklearn.ensemble import GradientBoostingRegressor\n",
    "from sklearn.model_selection import RandomizedSearchCV\n",
    "\n",
    "param_dist = {'max_features' : ['log2',1.0],\n",
    " 'max_depth' : [3, 5, 7, 10],\n",
    " 'min_samples_leaf' : [2, 3, 5, 10],\n",
    " 'n_estimators': [50, 100],\n",
    " 'learning_rate' : [0.0001,0.001,0.01,0.05,0.1,0.3],\n",
    " 'loss' : ['ls','huber']\n",
    " }\n",
    "\n",
    "pre_gs_inst = RandomizedSearchCV(GradientBoostingRegressor(warm_start=True),\n",
    " param_distributions = param_dist,\n",
    " cv=3,\n",
    " n_iter = 30, n_jobs=-1)\n",
    "pre_gs_inst.fit(X_train, y_train)"
   ]
  },
  {
   "cell_type": "code",
   "execution_count": 4,
   "metadata": {
    "collapsed": false
   },
   "outputs": [
    {
     "name": "stdout",
     "output_type": "stream",
     "text": [
      "Grid CV Report \n",
      "\n"
     ]
    },
    {
     "data": {
      "text/html": [
       "<div>\n",
       "<style>\n",
       "    .dataframe thead tr:only-child th {\n",
       "        text-align: right;\n",
       "    }\n",
       "\n",
       "    .dataframe thead th {\n",
       "        text-align: left;\n",
       "    }\n",
       "\n",
       "    .dataframe tbody tr th {\n",
       "        vertical-align: top;\n",
       "    }\n",
       "</style>\n",
       "<table border=\"1\" class=\"dataframe\">\n",
       "  <thead>\n",
       "    <tr style=\"text-align: right;\">\n",
       "      <th></th>\n",
       "      <th>param_type</th>\n",
       "      <th>param_set</th>\n",
       "      <th>mean_score</th>\n",
       "      <th>mean_std</th>\n",
       "    </tr>\n",
       "  </thead>\n",
       "  <tbody>\n",
       "    <tr>\n",
       "      <th>0</th>\n",
       "      <td>param_loss</td>\n",
       "      <td>huber</td>\n",
       "      <td>0.409401</td>\n",
       "      <td>0.346610</td>\n",
       "    </tr>\n",
       "    <tr>\n",
       "      <th>1</th>\n",
       "      <td>param_loss</td>\n",
       "      <td>ls</td>\n",
       "      <td>0.384585</td>\n",
       "      <td>0.340986</td>\n",
       "    </tr>\n",
       "    <tr>\n",
       "      <th>2</th>\n",
       "      <td>param_min_samples_leaf</td>\n",
       "      <td>2</td>\n",
       "      <td>0.464249</td>\n",
       "      <td>0.357226</td>\n",
       "    </tr>\n",
       "    <tr>\n",
       "      <th>3</th>\n",
       "      <td>param_min_samples_leaf</td>\n",
       "      <td>3</td>\n",
       "      <td>0.504020</td>\n",
       "      <td>0.267353</td>\n",
       "    </tr>\n",
       "    <tr>\n",
       "      <th>4</th>\n",
       "      <td>param_min_samples_leaf</td>\n",
       "      <td>5</td>\n",
       "      <td>0.363231</td>\n",
       "      <td>0.388734</td>\n",
       "    </tr>\n",
       "    <tr>\n",
       "      <th>5</th>\n",
       "      <td>param_min_samples_leaf</td>\n",
       "      <td>10</td>\n",
       "      <td>-0.004219</td>\n",
       "      <td>0.024699</td>\n",
       "    </tr>\n",
       "    <tr>\n",
       "      <th>6</th>\n",
       "      <td>param_max_depth</td>\n",
       "      <td>3</td>\n",
       "      <td>0.407668</td>\n",
       "      <td>0.299136</td>\n",
       "    </tr>\n",
       "    <tr>\n",
       "      <th>7</th>\n",
       "      <td>param_max_depth</td>\n",
       "      <td>5</td>\n",
       "      <td>0.365563</td>\n",
       "      <td>0.384754</td>\n",
       "    </tr>\n",
       "    <tr>\n",
       "      <th>8</th>\n",
       "      <td>param_max_depth</td>\n",
       "      <td>7</td>\n",
       "      <td>0.396002</td>\n",
       "      <td>0.370248</td>\n",
       "    </tr>\n",
       "    <tr>\n",
       "      <th>9</th>\n",
       "      <td>param_max_depth</td>\n",
       "      <td>10</td>\n",
       "      <td>0.422357</td>\n",
       "      <td>0.398164</td>\n",
       "    </tr>\n",
       "    <tr>\n",
       "      <th>10</th>\n",
       "      <td>param_learning_rate</td>\n",
       "      <td>0.0001</td>\n",
       "      <td>-0.011166</td>\n",
       "      <td>0.026935</td>\n",
       "    </tr>\n",
       "    <tr>\n",
       "      <th>11</th>\n",
       "      <td>param_learning_rate</td>\n",
       "      <td>0.001</td>\n",
       "      <td>0.057083</td>\n",
       "      <td>0.038219</td>\n",
       "    </tr>\n",
       "    <tr>\n",
       "      <th>12</th>\n",
       "      <td>param_learning_rate</td>\n",
       "      <td>0.01</td>\n",
       "      <td>0.469808</td>\n",
       "      <td>0.072167</td>\n",
       "    </tr>\n",
       "    <tr>\n",
       "      <th>13</th>\n",
       "      <td>param_learning_rate</td>\n",
       "      <td>0.05</td>\n",
       "      <td>0.764856</td>\n",
       "      <td>0.060034</td>\n",
       "    </tr>\n",
       "    <tr>\n",
       "      <th>14</th>\n",
       "      <td>param_learning_rate</td>\n",
       "      <td>0.1</td>\n",
       "      <td>0.787213</td>\n",
       "      <td>0.043201</td>\n",
       "    </tr>\n",
       "    <tr>\n",
       "      <th>15</th>\n",
       "      <td>param_learning_rate</td>\n",
       "      <td>0.3</td>\n",
       "      <td>0.817437</td>\n",
       "      <td>0.008105</td>\n",
       "    </tr>\n",
       "    <tr>\n",
       "      <th>16</th>\n",
       "      <td>param_max_features</td>\n",
       "      <td>1</td>\n",
       "      <td>0.409213</td>\n",
       "      <td>0.365447</td>\n",
       "    </tr>\n",
       "    <tr>\n",
       "      <th>17</th>\n",
       "      <td>param_max_features</td>\n",
       "      <td>log2</td>\n",
       "      <td>0.381256</td>\n",
       "      <td>0.316394</td>\n",
       "    </tr>\n",
       "    <tr>\n",
       "      <th>18</th>\n",
       "      <td>param_n_estimators</td>\n",
       "      <td>50</td>\n",
       "      <td>0.353859</td>\n",
       "      <td>0.361134</td>\n",
       "    </tr>\n",
       "    <tr>\n",
       "      <th>19</th>\n",
       "      <td>param_n_estimators</td>\n",
       "      <td>100</td>\n",
       "      <td>0.451491</td>\n",
       "      <td>0.310050</td>\n",
       "    </tr>\n",
       "  </tbody>\n",
       "</table>\n",
       "</div>"
      ],
      "text/plain": [
       "                param_type param_set  mean_score  mean_std\n",
       "0               param_loss     huber    0.409401  0.346610\n",
       "1               param_loss        ls    0.384585  0.340986\n",
       "2   param_min_samples_leaf         2    0.464249  0.357226\n",
       "3   param_min_samples_leaf         3    0.504020  0.267353\n",
       "4   param_min_samples_leaf         5    0.363231  0.388734\n",
       "5   param_min_samples_leaf        10   -0.004219  0.024699\n",
       "6          param_max_depth         3    0.407668  0.299136\n",
       "7          param_max_depth         5    0.365563  0.384754\n",
       "8          param_max_depth         7    0.396002  0.370248\n",
       "9          param_max_depth        10    0.422357  0.398164\n",
       "10     param_learning_rate    0.0001   -0.011166  0.026935\n",
       "11     param_learning_rate     0.001    0.057083  0.038219\n",
       "12     param_learning_rate      0.01    0.469808  0.072167\n",
       "13     param_learning_rate      0.05    0.764856  0.060034\n",
       "14     param_learning_rate       0.1    0.787213  0.043201\n",
       "15     param_learning_rate       0.3    0.817437  0.008105\n",
       "16      param_max_features         1    0.409213  0.365447\n",
       "17      param_max_features      log2    0.381256  0.316394\n",
       "18      param_n_estimators        50    0.353859  0.361134\n",
       "19      param_n_estimators       100    0.451491  0.310050"
      ]
     },
     "execution_count": 4,
     "metadata": {},
     "output_type": "execute_result"
    }
   ],
   "source": [
    "import numpy as np\n",
    "import pandas as pd\n",
    "\n",
    "def get_grid_df(fitted_gs_estimator):\n",
    "    res_dict = fitted_gs_estimator.cv_results_\n",
    " \n",
    "    results_df = pd.DataFrame()\n",
    "    for key in res_dict.keys():\n",
    "         results_df[key] = res_dict[key]\n",
    " \n",
    "    return results_df\n",
    "\n",
    "def group_report(results_df):\n",
    "    param_cols = [x for x in results_df.columns if 'param' in x and x is not 'params']\n",
    "    focus_cols = param_cols + ['mean_test_score']\n",
    " \n",
    "    print \"Grid CV Report \\n\"\n",
    " \n",
    "    output_df = pd.DataFrame(columns = ['param_type','param_set', 'mean_score','mean_std'])\n",
    "    cc = 0\n",
    "    for param in param_cols:\n",
    "        for key,group in results_df.groupby(param):\n",
    "            output_df.loc[cc] = (param, key, group['mean_test_score'].mean(), group['mean_test_score'].std())\n",
    "            cc += 1\n",
    "    return output_df\n",
    "\n",
    "results_df = get_grid_df(pre_gs_inst)\n",
    "group_report(results_df)"
   ]
  },
  {
   "cell_type": "code",
   "execution_count": 5,
   "metadata": {
    "collapsed": false
   },
   "outputs": [
    {
     "data": {
      "text/plain": [
       "RandomizedSearchCV(cv=3, error_score='raise',\n",
       "          estimator=GradientBoostingRegressor(alpha=0.9, criterion='friedman_mse', init=None,\n",
       "             learning_rate=0.1, loss='ls', max_depth=3, max_features=None,\n",
       "             max_leaf_nodes=None, min_impurity_decrease=0.0,\n",
       "             min_impurity_split=None, min_samples_leaf=1,\n",
       "             min_samples_split=2, min_weight_fraction_leaf=0.0,\n",
       "             n_estimators=100, presort='auto', random_state=None,\n",
       "             subsample=1.0, verbose=0, warm_start=True),\n",
       "          fit_params=None, iid=True, n_iter=30, n_jobs=-1,\n",
       "          param_distributions={'loss': ['ls', 'huber'], 'learning_rate': [0.2, 0.25, 0.3, 0.4], 'min_samples_leaf': [3, 4], 'n_estimators': [50, 100], 'max_features': ['sqrt', 0.5, 1.0], 'max_depth': [2, 3, 4]},\n",
       "          pre_dispatch='2*n_jobs', random_state=None, refit=True,\n",
       "          return_train_score=True, scoring=None, verbose=0)"
      ]
     },
     "execution_count": 5,
     "metadata": {},
     "output_type": "execute_result"
    }
   ],
   "source": [
    "param_dist = {'max_features' : ['sqrt',0.5,1.0],\n",
    " 'max_depth' : [2,3,4],\n",
    " 'min_samples_leaf' : [3, 4],\n",
    " 'n_estimators': [50, 100],\n",
    " 'learning_rate' : [0.2,0.25, 0.3, 0.4],\n",
    " 'loss' : ['ls','huber']\n",
    " }\n",
    "pre_gs_inst = RandomizedSearchCV(GradientBoostingRegressor(warm_start=True),\n",
    "param_distributions = param_dist,cv=3,n_iter = 30, n_jobs=-1)\n",
    "pre_gs_inst.fit(X_train, y_train)"
   ]
  },
  {
   "cell_type": "code",
   "execution_count": 6,
   "metadata": {
    "collapsed": false
   },
   "outputs": [
    {
     "name": "stdout",
     "output_type": "stream",
     "text": [
      "Grid CV Report \n",
      "\n"
     ]
    },
    {
     "data": {
      "text/html": [
       "<div>\n",
       "<style>\n",
       "    .dataframe thead tr:only-child th {\n",
       "        text-align: right;\n",
       "    }\n",
       "\n",
       "    .dataframe thead th {\n",
       "        text-align: left;\n",
       "    }\n",
       "\n",
       "    .dataframe tbody tr th {\n",
       "        vertical-align: top;\n",
       "    }\n",
       "</style>\n",
       "<table border=\"1\" class=\"dataframe\">\n",
       "  <thead>\n",
       "    <tr style=\"text-align: right;\">\n",
       "      <th></th>\n",
       "      <th>param_type</th>\n",
       "      <th>param_set</th>\n",
       "      <th>mean_score</th>\n",
       "      <th>mean_std</th>\n",
       "    </tr>\n",
       "  </thead>\n",
       "  <tbody>\n",
       "    <tr>\n",
       "      <th>0</th>\n",
       "      <td>param_loss</td>\n",
       "      <td>huber</td>\n",
       "      <td>0.779943</td>\n",
       "      <td>0.022787</td>\n",
       "    </tr>\n",
       "    <tr>\n",
       "      <th>1</th>\n",
       "      <td>param_loss</td>\n",
       "      <td>ls</td>\n",
       "      <td>0.783039</td>\n",
       "      <td>0.031233</td>\n",
       "    </tr>\n",
       "    <tr>\n",
       "      <th>2</th>\n",
       "      <td>param_min_samples_leaf</td>\n",
       "      <td>3</td>\n",
       "      <td>0.776799</td>\n",
       "      <td>0.025490</td>\n",
       "    </tr>\n",
       "    <tr>\n",
       "      <th>3</th>\n",
       "      <td>param_min_samples_leaf</td>\n",
       "      <td>4</td>\n",
       "      <td>0.791408</td>\n",
       "      <td>0.025709</td>\n",
       "    </tr>\n",
       "    <tr>\n",
       "      <th>4</th>\n",
       "      <td>param_max_depth</td>\n",
       "      <td>2</td>\n",
       "      <td>0.760400</td>\n",
       "      <td>0.019848</td>\n",
       "    </tr>\n",
       "    <tr>\n",
       "      <th>5</th>\n",
       "      <td>param_max_depth</td>\n",
       "      <td>3</td>\n",
       "      <td>0.786706</td>\n",
       "      <td>0.013079</td>\n",
       "    </tr>\n",
       "    <tr>\n",
       "      <th>6</th>\n",
       "      <td>param_max_depth</td>\n",
       "      <td>4</td>\n",
       "      <td>0.808736</td>\n",
       "      <td>0.014967</td>\n",
       "    </tr>\n",
       "    <tr>\n",
       "      <th>7</th>\n",
       "      <td>param_learning_rate</td>\n",
       "      <td>0.2</td>\n",
       "      <td>0.773884</td>\n",
       "      <td>0.024891</td>\n",
       "    </tr>\n",
       "    <tr>\n",
       "      <th>8</th>\n",
       "      <td>param_learning_rate</td>\n",
       "      <td>0.25</td>\n",
       "      <td>0.782548</td>\n",
       "      <td>0.032352</td>\n",
       "    </tr>\n",
       "    <tr>\n",
       "      <th>9</th>\n",
       "      <td>param_learning_rate</td>\n",
       "      <td>0.3</td>\n",
       "      <td>0.788241</td>\n",
       "      <td>0.026682</td>\n",
       "    </tr>\n",
       "    <tr>\n",
       "      <th>10</th>\n",
       "      <td>param_learning_rate</td>\n",
       "      <td>0.4</td>\n",
       "      <td>0.794763</td>\n",
       "      <td>0.003527</td>\n",
       "    </tr>\n",
       "    <tr>\n",
       "      <th>11</th>\n",
       "      <td>param_max_features</td>\n",
       "      <td>0.5</td>\n",
       "      <td>0.790798</td>\n",
       "      <td>0.022962</td>\n",
       "    </tr>\n",
       "    <tr>\n",
       "      <th>12</th>\n",
       "      <td>param_max_features</td>\n",
       "      <td>1</td>\n",
       "      <td>0.787266</td>\n",
       "      <td>0.025484</td>\n",
       "    </tr>\n",
       "    <tr>\n",
       "      <th>13</th>\n",
       "      <td>param_max_features</td>\n",
       "      <td>sqrt</td>\n",
       "      <td>0.765834</td>\n",
       "      <td>0.024313</td>\n",
       "    </tr>\n",
       "    <tr>\n",
       "      <th>14</th>\n",
       "      <td>param_n_estimators</td>\n",
       "      <td>50</td>\n",
       "      <td>0.774525</td>\n",
       "      <td>0.022800</td>\n",
       "    </tr>\n",
       "    <tr>\n",
       "      <th>15</th>\n",
       "      <td>param_n_estimators</td>\n",
       "      <td>100</td>\n",
       "      <td>0.789887</td>\n",
       "      <td>0.028242</td>\n",
       "    </tr>\n",
       "  </tbody>\n",
       "</table>\n",
       "</div>"
      ],
      "text/plain": [
       "                param_type param_set  mean_score  mean_std\n",
       "0               param_loss     huber    0.779943  0.022787\n",
       "1               param_loss        ls    0.783039  0.031233\n",
       "2   param_min_samples_leaf         3    0.776799  0.025490\n",
       "3   param_min_samples_leaf         4    0.791408  0.025709\n",
       "4          param_max_depth         2    0.760400  0.019848\n",
       "5          param_max_depth         3    0.786706  0.013079\n",
       "6          param_max_depth         4    0.808736  0.014967\n",
       "7      param_learning_rate       0.2    0.773884  0.024891\n",
       "8      param_learning_rate      0.25    0.782548  0.032352\n",
       "9      param_learning_rate       0.3    0.788241  0.026682\n",
       "10     param_learning_rate       0.4    0.794763  0.003527\n",
       "11      param_max_features       0.5    0.790798  0.022962\n",
       "12      param_max_features         1    0.787266  0.025484\n",
       "13      param_max_features      sqrt    0.765834  0.024313\n",
       "14      param_n_estimators        50    0.774525  0.022800\n",
       "15      param_n_estimators       100    0.789887  0.028242"
      ]
     },
     "execution_count": 6,
     "metadata": {},
     "output_type": "execute_result"
    }
   ],
   "source": [
    "results_df = get_grid_df(pre_gs_inst)\n",
    "group_report(results_df)"
   ]
  },
  {
   "cell_type": "code",
   "execution_count": 7,
   "metadata": {
    "collapsed": false
   },
   "outputs": [
    {
     "data": {
      "text/plain": [
       "GradientBoostingRegressor(alpha=0.9, criterion='friedman_mse', init=None,\n",
       "             learning_rate=0.3, loss='huber', max_depth=6,\n",
       "             max_features=0.5, max_leaf_nodes=None,\n",
       "             min_impurity_decrease=0.0, min_impurity_split=None,\n",
       "             min_samples_leaf=4, min_samples_split=2,\n",
       "             min_weight_fraction_leaf=0.0, n_estimators=4000,\n",
       "             presort='auto', random_state=None, subsample=1.0, verbose=0,\n",
       "             warm_start=True)"
      ]
     },
     "execution_count": 7,
     "metadata": {},
     "output_type": "execute_result"
    }
   ],
   "source": [
    "param_dist = {'max_features' : [0.4, 0.5, 0.6],\n",
    " 'max_depth' : [5,6],\n",
    " 'min_samples_leaf' : [4,5],\n",
    " 'n_estimators': [300],\n",
    " 'learning_rate' : [0.3],\n",
    " 'loss' : ['ls','huber']\n",
    " }\n",
    "rs_gbt = GradientBoostingRegressor(warm_start=True,\n",
    " max_features = 0.5,\n",
    " min_samples_leaf = 4,\n",
    " learning_rate=0.3,\n",
    " max_depth = 6,\n",
    " n_estimators = 4000,loss = 'huber')\n",
    "\n",
    "rs_gbt.fit(X_train, y_train)"
   ]
  },
  {
   "cell_type": "code",
   "execution_count": 8,
   "metadata": {
    "collapsed": false
   },
   "outputs": [
    {
     "name": "stdout",
     "output_type": "stream",
     "text": [
      "R-squared 0.828251447771\n",
      "MAE :  0.309495256671\n",
      "MAPE :  0.169353509078\n"
     ]
    }
   ],
   "source": [
    "y_pred = rs_gbt.predict(X_test)\n",
    "\n",
    "from sklearn.metrics import r2_score, mean_absolute_error\n",
    "\n",
    "print \"R-squared\",r2_score(y_test, y_pred)\n",
    "print \"MAE : \",mean_absolute_error(y_test, y_pred)\n",
    "print \"MAPE : \",(np.abs(y_test - y_pred)/y_test).mean()"
   ]
  },
  {
   "cell_type": "code",
   "execution_count": 9,
   "metadata": {
    "collapsed": false
   },
   "outputs": [
    {
     "data": {
      "text/plain": [
       "<matplotlib.axes._subplots.AxesSubplot at 0xd11a4e0>"
      ]
     },
     "execution_count": 9,
     "metadata": {},
     "output_type": "execute_result"
    },
    {
     "data": {
      "image/png": "[encoded data removed]",
      "text/plain": [
       "<matplotlib.figure.Figure at 0xaa1c2b0>"
      ]
     },
     "metadata": {},
     "output_type": "display_data"
    }
   ],
   "source": [
    "pd.Series(y).hist(bins=50)"
   ]
  },
  {
   "cell_type": "code",
   "execution_count": 10,
   "metadata": {
    "collapsed": true
   },
   "outputs": [],
   "source": [
    "bins = np.arange(6)\n",
    "binned_y = np.digitize(y, bins)\n",
    "\n",
    "from sklearn.model_selection import train_test_split\n",
    "X_train, X_test, y_train, y_test = train_test_split(X, y, test_size=0.2,stratify=binned_y)"
   ]
  },
  {
   "cell_type": "code",
   "execution_count": 11,
   "metadata": {
    "collapsed": true
   },
   "outputs": [],
   "source": [
    "y_binary = np.where(y >= 5, 1,0)\n",
    "\n",
    "train_shape = X_train.shape[0]\n",
    "\n",
    "y_train_binned = y_binary[:train_shape]\n",
    "y_test_binned = y_binary[train_shape:]"
   ]
  },
  {
   "cell_type": "code",
   "execution_count": 12,
   "metadata": {
    "collapsed": false
   },
   "outputs": [
    {
     "data": {
      "text/plain": [
       "RandomizedSearchCV(cv=3, error_score='raise',\n",
       "          estimator=GradientBoostingClassifier(criterion='friedman_mse', init=None,\n",
       "              learning_rate=0.1, loss='deviance', max_depth=3,\n",
       "              max_features=None, max_leaf_nodes=None,\n",
       "              min_impurity_decrease=0.0, min_impurity_split=None,\n",
       "              min_samples_leaf=1, min_samples_split=2,\n",
       "              min_weight_fraction_leaf=0.0, n_estimators=100,\n",
       "              presort='auto', random_state=None, subsample=1.0, verbose=0,\n",
       "              warm_start=True),\n",
       "          fit_params=None, iid=True, n_iter=10, n_jobs=-1,\n",
       "          param_distributions={'loss': ['deviance'], 'learning_rate': [0.1, 0.2, 0.3, 1], 'min_samples_leaf': [1, 2, 3, 10], 'n_estimators': [100], 'max_features': ['log2', 0.5, 1.0], 'max_depth': [2, 3, 6]},\n",
       "          pre_dispatch='2*n_jobs', random_state=None, refit=True,\n",
       "          return_train_score=True, scoring=None, verbose=0)"
      ]
     },
     "execution_count": 12,
     "metadata": {},
     "output_type": "execute_result"
    }
   ],
   "source": [
    "from sklearn.ensemble import GradientBoostingClassifier\n",
    "from sklearn.model_selection import RandomizedSearchCV\n",
    "param_dist = {'max_features' : ['log2',0.5,1.0],\n",
    "              'max_depth' : [2,3,6],\n",
    "              'min_samples_leaf' : [1,2,3,10],\n",
    "              'n_estimators': [100],\n",
    "              'learning_rate' : [0.1,0.2,0.3,1],\n",
    "              'loss' : ['deviance']\n",
    "             }\n",
    "pre_gs_inst = RandomizedSearchCV(GradientBoostingClassifier(warm_start=True),\n",
    "                                 param_distributions = param_dist,\n",
    "                                 cv=3,\n",
    "                                 n_iter = 10, n_jobs=-1)\n",
    "pre_gs_inst.fit(X_train, y_train_binned)"
   ]
  },
  {
   "cell_type": "code",
   "execution_count": 13,
   "metadata": {
    "collapsed": false
   },
   "outputs": [
    {
     "data": {
      "text/plain": [
       "{'learning_rate': 0.2,\n",
       " 'loss': 'deviance',\n",
       " 'max_depth': 3,\n",
       " 'max_features': 1.0,\n",
       " 'min_samples_leaf': 10,\n",
       " 'n_estimators': 100}"
      ]
     },
     "execution_count": 13,
     "metadata": {},
     "output_type": "execute_result"
    }
   ],
   "source": [
    "pre_gs_inst.best_params_"
   ]
  },
  {
   "cell_type": "code",
   "execution_count": 14,
   "metadata": {
    "collapsed": true
   },
   "outputs": [],
   "source": [
    "gbc = GradientBoostingClassifier(**{'learning_rate': 0.2,\n",
    " 'loss': 'deviance',\n",
    " 'max_depth': 2,\n",
    " 'max_features': 1.0,\n",
    " 'min_samples_leaf': 2,\n",
    " 'n_estimators': 1000, 'warm_start':True}).fit(X_train, y_train_binned)"
   ]
  },
  {
   "cell_type": "code",
   "execution_count": 15,
   "metadata": {
    "collapsed": false
   },
   "outputs": [
    {
     "data": {
      "text/plain": [
       "0.93604651162790697"
      ]
     },
     "execution_count": 15,
     "metadata": {},
     "output_type": "execute_result"
    }
   ],
   "source": [
    "y_pred = gbc.predict(X_test)\n",
    "\n",
    "from sklearn.metrics import accuracy_score\n",
    "accuracy_score(y_test_binned, y_pred)"
   ]
  }
 ],
 "metadata": {
  "kernelspec": {
   "display_name": "Python 2",
   "language": "python",
   "name": "python2"
  },
  "language_info": {
   "codemirror_mode": {
    "name": "ipython",
    "version": 2
   },
   "file_extension": ".py",
   "mimetype": "text/x-python",
   "name": "python",
   "nbconvert_exporter": "python",
   "pygments_lexer": "ipython2",
   "version": "2.7.11"
  }
 },
 "nbformat": 4,
 "nbformat_minor": 0
}
