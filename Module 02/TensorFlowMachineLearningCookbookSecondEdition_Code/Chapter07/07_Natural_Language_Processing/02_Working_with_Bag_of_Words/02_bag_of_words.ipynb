{
 "cells": [
  {
   "cell_type": "markdown",
   "metadata": {
    "deletable": true,
    "editable": true
   },
   "source": [
    "# Working with Bag of Words\n",
    "\n",
    "-------------------------------------\n",
    "\n",
    "In this example, we will download and preprocess the ham/spam text data.  We will then use a one-hot-encoding to make a bag of words set of features to use in logistic regression.\n",
    "\n",
    "We will use these one-hot-vectors for logistic regression to predict if a text is spam or ham.\n",
    "\n",
    "We start by loading the necessary libraries."
   ]
  },
  {
   "cell_type": "code",
   "execution_count": 1,
   "metadata": {
    "collapsed": true,
    "deletable": true,
    "editable": true
   },
   "outputs": [],
   "source": [
    "import tensorflow as tf\n",
    "import matplotlib.pyplot as plt\n",
    "import os\n",
    "import numpy as np\n",
    "import csv\n",
    "import string\n",
    "import requests\n",
    "import io\n",
    "from zipfile import ZipFile\n",
    "from tensorflow.contrib import learn\n",
    "from tensorflow.python.framework import ops\n",
    "ops.reset_default_graph()"
   ]
  },
  {
   "cell_type": "markdown",
   "metadata": {
    "deletable": true,
    "editable": true
   },
   "source": [
    "We start a computation graph session."
   ]
  },
  {
   "cell_type": "code",
   "execution_count": 2,
   "metadata": {
    "collapsed": true,
    "deletable": true,
    "editable": true
   },
   "outputs": [],
   "source": [
    "# Start a graph session\n",
    "sess = tf.Session()"
   ]
  },
  {
   "cell_type": "markdown",
   "metadata": {
    "deletable": true,
    "editable": true
   },
   "source": [
    "Check if data was downloaded, otherwise download it and save for future use"
   ]
  },
  {
   "cell_type": "code",
   "execution_count": 3,
   "metadata": {
    "collapsed": false,
    "deletable": true,
    "editable": true
   },
   "outputs": [],
   "source": [
    "save_file_name = os.path.join('temp','temp_spam_data.csv')\n",
    "\n",
    "# Create directory if it doesn't exist\n",
    "if not os.path.exists('temp'):\n",
    "    os.makedirs('temp')\n",
    "\n",
    "if os.path.isfile(save_file_name):\n",
    "    text_data = []\n",
    "    with open(save_file_name, 'r') as temp_output_file:\n",
    "        reader = csv.reader(temp_output_file)\n",
    "        for row in reader:\n",
    "            text_data.append(row)\n",
    "else:\n",
    "    zip_url = 'http://archive.ics.uci.edu/ml/machine-learning-databases/00228/smsspamcollection.zip'\n",
    "    r = requests.get(zip_url)\n",
    "    z = ZipFile(io.BytesIO(r.content))\n",
    "    file = z.read('SMSSpamCollection')\n",
    "    # Format Data\n",
    "    text_data = file.decode()\n",
    "    text_data = text_data.encode('ascii',errors='ignore')\n",
    "    text_data = text_data.decode().split('\\n')\n",
    "    text_data = [x.split('\\t') for x in text_data if len(x)>=1]\n",
    "    \n",
    "    # And write to csv\n",
    "    with open(save_file_name, 'w') as temp_output_file:\n",
    "        writer = csv.writer(temp_output_file)\n",
    "        writer.writerows(text_data)\n",
    "\n",
    "texts = [x[1] for x in text_data]\n",
    "target = [x[0] for x in text_data]"
   ]
  },
  {
   "cell_type": "markdown",
   "metadata": {
    "deletable": true,
    "editable": true
   },
   "source": [
    "To reduce the potential vocabulary size, we normalize the text. To do this, we remove the influence of capitalization and numbers in the text."
   ]
  },
  {
   "cell_type": "code",
   "execution_count": 4,
   "metadata": {
    "collapsed": true,
    "deletable": true,
    "editable": true
   },
   "outputs": [],
   "source": [
    "# Relabel 'spam' as 1, 'ham' as 0\n",
    "target = [1 if x=='spam' else 0 for x in target]\n",
    "\n",
    "# Normalize text\n",
    "# Lower case\n",
    "texts = [x.lower() for x in texts]\n",
    "\n",
    "# Remove punctuation\n",
    "texts = [''.join(c for c in x if c not in string.punctuation) for x in texts]\n",
    "\n",
    "# Remove numbers\n",
    "texts = [''.join(c for c in x if c not in '0123456789') for x in texts]\n",
    "\n",
    "# Trim extra whitespace\n",
    "texts = [' '.join(x.split()) for x in texts]"
   ]
  },
  {
   "cell_type": "markdown",
   "metadata": {
    "deletable": true,
    "editable": true
   },
   "source": [
    "To determine a good sentence length to pad/crop at, we plot a histogram of text lengths (in words)."
   ]
  },
  {
   "cell_type": "code",
   "execution_count": 5,
   "metadata": {
    "collapsed": false,
    "deletable": true,
    "editable": true
   },
   "outputs": [
    {
     "data": {
      "image/png": "[encoded data removed]",
      "text/plain": [
       "<matplotlib.figure.Figure at 0x7f5d3a34ecf8>"
      ]
     },
     "metadata": {},
     "output_type": "display_data"
    }
   ],
   "source": [
    "%matplotlib inline\n",
    "# Plot histogram of text lengths\n",
    "text_lengths = [len(x.split()) for x in texts]\n",
    "text_lengths = [x for x in text_lengths if x < 50]\n",
    "plt.hist(text_lengths, bins=25)\n",
    "plt.title('Histogram of # of Words in Texts')\n",
    "plt.show()"
   ]
  },
  {
   "cell_type": "markdown",
   "metadata": {
    "deletable": true,
    "editable": true
   },
   "source": [
    "We crop/pad all texts to be 25 words long.  We also will filter out any words that do not appear at least 3 times."
   ]
  },
  {
   "cell_type": "code",
   "execution_count": 6,
   "metadata": {
    "collapsed": true,
    "deletable": true,
    "editable": true
   },
   "outputs": [],
   "source": [
    "# Choose max text word length at 25\n",
    "sentence_size = 25\n",
    "min_word_freq = 3"
   ]
  },
  {
   "cell_type": "markdown",
   "metadata": {
    "deletable": true,
    "editable": true
   },
   "source": [
    "TensorFlow has a built in text processing function called `VocabularyProcessor()`. We use this function to process the texts."
   ]
  },
  {
   "cell_type": "code",
   "execution_count": 8,
   "metadata": {
    "collapsed": false,
    "deletable": true,
    "editable": true
   },
   "outputs": [],
   "source": [
    "# Setup vocabulary processor\n",
    "vocab_processor = learn.preprocessing.VocabularyProcessor(sentence_size, min_frequency=min_word_freq)\n",
    "\n",
    "# Have to fit transform to get length of unique words.\n",
    "vocab_processor.transform(texts)\n",
    "transformed_texts = np.array([x for x in vocab_processor.transform(texts)])\n",
    "embedding_size = len(np.unique(transformed_texts))"
   ]
  },
  {
   "cell_type": "markdown",
   "metadata": {
    "deletable": true,
    "editable": true
   },
   "source": [
    "To test our logistic model (predicting spam/ham), we split the texts into a train and test set."
   ]
  },
  {
   "cell_type": "code",
   "execution_count": 9,
   "metadata": {
    "collapsed": true,
    "deletable": true,
    "editable": true
   },
   "outputs": [],
   "source": [
    "# Split up data set into train/test\n",
    "train_indices = np.random.choice(len(texts), round(len(texts)*0.8), replace=False)\n",
    "test_indices = np.array(list(set(range(len(texts))) - set(train_indices)))\n",
    "texts_train = [x for ix, x in enumerate(texts) if ix in train_indices]\n",
    "texts_test = [x for ix, x in enumerate(texts) if ix in test_indices]\n",
    "target_train = [x for ix, x in enumerate(target) if ix in train_indices]\n",
    "target_test = [x for ix, x in enumerate(target) if ix in test_indices]"
   ]
  },
  {
   "cell_type": "markdown",
   "metadata": {
    "deletable": true,
    "editable": true
   },
   "source": [
    "For one-hot-encoding, we setup an identity matrix for the TensorFlow embedding lookup.\n",
    "\n",
    "We also create the variables and placeholders for the logistic regression we will perform."
   ]
  },
  {
   "cell_type": "code",
   "execution_count": 10,
   "metadata": {
    "collapsed": true,
    "deletable": true,
    "editable": true
   },
   "outputs": [],
   "source": [
    "# Setup Index Matrix for one-hot-encoding\n",
    "identity_mat = tf.diag(tf.ones(shape=[embedding_size]))\n",
    "\n",
    "# Create variables for logistic regression\n",
    "A = tf.Variable(tf.random_normal(shape=[embedding_size,1]))\n",
    "b = tf.Variable(tf.random_normal(shape=[1,1]))\n",
    "\n",
    "# Initialize placeholders\n",
    "x_data = tf.placeholder(shape=[sentence_size], dtype=tf.int32)\n",
    "y_target = tf.placeholder(shape=[1, 1], dtype=tf.float32)"
   ]
  },
  {
   "cell_type": "markdown",
   "metadata": {
    "deletable": true,
    "editable": true
   },
   "source": [
    "Next, we create the text-word embedding lookup with the prior identity matrix.\n",
    "\n",
    "Our logistic regression will use the counts of the words as the input.  The counts are created by summing the embedding output across the rows.\n",
    "\n",
    "Then we declare the logistic regression operations. Note that we do not wrap the logistic operations in the sigmoid function because this will be done in the loss function later on."
   ]
  },
  {
   "cell_type": "code",
   "execution_count": 11,
   "metadata": {
    "collapsed": true,
    "deletable": true,
    "editable": true
   },
   "outputs": [],
   "source": [
    "# Text-Vocab Embedding\n",
    "x_embed = tf.nn.embedding_lookup(identity_mat, x_data)\n",
    "x_col_sums = tf.reduce_sum(x_embed, 0)\n",
    "\n",
    "# Declare model operations\n",
    "x_col_sums_2D = tf.expand_dims(x_col_sums, 0)\n",
    "model_output = tf.add(tf.matmul(x_col_sums_2D, A), b)"
   ]
  },
  {
   "cell_type": "markdown",
   "metadata": {
    "deletable": true,
    "editable": true
   },
   "source": [
    "Now we declare our loss function (which has the sigmoid built in), prediction operations, optimizer, and initialize the variables."
   ]
  },
  {
   "cell_type": "code",
   "execution_count": 12,
   "metadata": {
    "collapsed": true,
    "deletable": true,
    "editable": true
   },
   "outputs": [],
   "source": [
    "# Declare loss function (Cross Entropy loss)\n",
    "loss = tf.reduce_mean(tf.nn.sigmoid_cross_entropy_with_logits(logits=model_output, labels=y_target))\n",
    "\n",
    "# Prediction operation\n",
    "prediction = tf.sigmoid(model_output)\n",
    "\n",
    "# Declare optimizer\n",
    "my_opt = tf.train.GradientDescentOptimizer(0.001)\n",
    "train_step = my_opt.minimize(loss)\n",
    "\n",
    "# Intitialize Variables\n",
    "init = tf.global_variables_initializer()\n",
    "sess.run(init)"
   ]
  },
  {
   "cell_type": "markdown",
   "metadata": {
    "deletable": true,
    "editable": true
   },
   "source": [
    "Now we loop through the iterations and fit the logistic regression on wether or not the text is spam or ham."
   ]
  },
  {
   "cell_type": "code",
   "execution_count": 13,
   "metadata": {
    "collapsed": false,
    "deletable": true,
    "editable": true
   },
   "outputs": [
    {
     "name": "stdout",
     "output_type": "stream",
     "text": [
      "Starting Training Over 4459 Sentences.\n",
      "Training Observation #10: Loss = 10.2778\n",
      "Training Observation #20: Loss = 1.19316e-09\n",
      "Training Observation #30: Loss = 3.12619e-06\n",
      "Training Observation #40: Loss = 8.27559e-10\n",
      "Training Observation #50: Loss = 10.9895\n",
      "Training Observation #60: Loss = 3.89441e-05\n",
      "Training Observation #70: Loss = 8.85592e-07\n",
      "Training Observation #80: Loss = 0.790782\n",
      "Training Observation #90: Loss = 1.02829e-06\n",
      "Training Observation #100: Loss = 3.81317\n",
      "Training Observation #110: Loss = 4.6235e-09\n",
      "Training Observation #120: Loss = 1.44432e-05\n",
      "Training Observation #130: Loss = 1.5916e-08\n",
      "Training Observation #140: Loss = 0.000100448\n",
      "Training Observation #150: Loss = 1.17368e-05\n",
      "Training Observation #160: Loss = 7.48297e-09\n",
      "Training Observation #170: Loss = 1.29962e-05\n",
      "Training Observation #180: Loss = 2.43554e-08\n",
      "Training Observation #190: Loss = 1.3747e-06\n",
      "Training Observation #200: Loss = 3.06648e-10\n",
      "Training Observation #210: Loss = 0.0520885\n",
      "Training Observation #220: Loss = 0.00441677\n",
      "Training Observation #230: Loss = 1.38112e-06\n",
      "Training Observation #240: Loss = 3.68009e-05\n",
      "Training Observation #250: Loss = 0.0068205\n",
      "Training Observation #260: Loss = 0.000106576\n",
      "Training Observation #270: Loss = 1.30045e-08\n",
      "Training Observation #280: Loss = 3.05209e-08\n",
      "Training Observation #290: Loss = 3.18688e-06\n",
      "Training Observation #300: Loss = 1.66265e-06\n",
      "Training Observation #310: Loss = 0.350584\n",
      "Training Observation #320: Loss = 1.91021e-05\n",
      "Training Observation #330: Loss = 2.51232e-06\n",
      "Training Observation #340: Loss = 3.14701e-06\n",
      "Training Observation #350: Loss = 7.29681e-08\n",
      "Training Observation #360: Loss = 0.980764\n",
      "Training Observation #370: Loss = 0.0190124\n",
      "Training Observation #380: Loss = 1.81225e-05\n",
      "Training Observation #390: Loss = 6.42406e-06\n",
      "Training Observation #400: Loss = 2.0121e-06\n",
      "Training Observation #410: Loss = 0.908233\n",
      "Training Observation #420: Loss = 1.79508e-05\n",
      "Training Observation #430: Loss = 0.00689403\n",
      "Training Observation #440: Loss = 0.000131868\n",
      "Training Observation #450: Loss = 6.90337\n",
      "Training Observation #460: Loss = 0.00360844\n",
      "Training Observation #470: Loss = 6.17646\n",
      "Training Observation #480: Loss = 13.5849\n",
      "Training Observation #490: Loss = 1.0187\n",
      "Training Observation #500: Loss = 1.20479e-05\n",
      "Training Observation #510: Loss = 9.7865\n",
      "Training Observation #520: Loss = 2.09577e-05\n",
      "Training Observation #530: Loss = 0.00413652\n",
      "Training Observation #540: Loss = 0.00154006\n",
      "Training Observation #550: Loss = 8.37956e-07\n",
      "Training Observation #560: Loss = 2.06303e-05\n",
      "Training Observation #570: Loss = 7.73394\n",
      "Training Observation #580: Loss = 3.6019e-06\n",
      "Training Observation #590: Loss = 0.00272255\n",
      "Training Observation #600: Loss = 11.327\n",
      "Training Observation #610: Loss = 8.39739e-05\n",
      "Training Observation #620: Loss = 0.0154216\n",
      "Training Observation #630: Loss = 0.168612\n",
      "Training Observation #640: Loss = 2.38635e-06\n",
      "Training Observation #650: Loss = 7.84515e-06\n",
      "Training Observation #660: Loss = 1.6177e-05\n",
      "Training Observation #670: Loss = 0.473604\n",
      "Training Observation #680: Loss = 0.268214\n",
      "Training Observation #690: Loss = 2.23086\n",
      "Training Observation #700: Loss = 2.72788\n",
      "Training Observation #710: Loss = 3.46453e-06\n",
      "Training Observation #720: Loss = 9.34344e-06\n",
      "Training Observation #730: Loss = 1.63389\n",
      "Training Observation #740: Loss = 0.0215835\n",
      "Training Observation #750: Loss = 0.00011134\n",
      "Training Observation #760: Loss = 0.00539058\n",
      "Training Observation #770: Loss = 0.0643511\n",
      "Training Observation #780: Loss = 0.00192186\n",
      "Training Observation #790: Loss = 0.47168\n",
      "Training Observation #800: Loss = 0.460034\n",
      "Training Observation #810: Loss = 0.000319884\n",
      "Training Observation #820: Loss = 0.000138022\n",
      "Training Observation #830: Loss = 0.00016684\n",
      "Training Observation #840: Loss = 0.000915529\n",
      "Training Observation #850: Loss = 0.0755449\n",
      "Training Observation #860: Loss = 0.000462116\n",
      "Training Observation #870: Loss = 0.00070938\n",
      "Training Observation #880: Loss = 0.00288585\n",
      "Training Observation #890: Loss = 9.1019\n",
      "Training Observation #900: Loss = 2.44433\n",
      "Training Observation #910: Loss = 4.52815\n",
      "Training Observation #920: Loss = 0.000285115\n",
      "Training Observation #930: Loss = 0.00136862\n",
      "Training Observation #940: Loss = 2.80622e-06\n",
      "Training Observation #950: Loss = 0.000840566\n",
      "Training Observation #960: Loss = 0.896023\n",
      "Training Observation #970: Loss = 0.000246887\n",
      "Training Observation #980: Loss = 0.00130488\n",
      "Training Observation #990: Loss = 3.13126\n",
      "Training Observation #1000: Loss = 1.8586\n",
      "Training Observation #1010: Loss = 7.10204e-07\n",
      "Training Observation #1020: Loss = 0.0547286\n",
      "Training Observation #1030: Loss = 0.00589213\n",
      "Training Observation #1040: Loss = 7.23177e-05\n",
      "Training Observation #1050: Loss = 0.319899\n",
      "Training Observation #1060: Loss = 0.00114894\n",
      "Training Observation #1070: Loss = 0.00259651\n",
      "Training Observation #1080: Loss = 0.0179473\n",
      "Training Observation #1090: Loss = 2.35176\n",
      "Training Observation #1100: Loss = 0.00164634\n",
      "Training Observation #1110: Loss = 0.52194\n",
      "Training Observation #1120: Loss = 6.61559e-07\n",
      "Training Observation #1130: Loss = 0.65213\n",
      "Training Observation #1140: Loss = 5.91898\n",
      "Training Observation #1150: Loss = 9.04454e-05\n",
      "Training Observation #1160: Loss = 0.00014283\n",
      "Training Observation #1170: Loss = 3.48781e-05\n",
      "Training Observation #1180: Loss = 12.4596\n",
      "Training Observation #1190: Loss = 0.00101821\n",
      "Training Observation #1200: Loss = 0.0321773\n",
      "Training Observation #1210: Loss = 0.00263232\n",
      "Training Observation #1220: Loss = 0.00268328\n",
      "Training Observation #1230: Loss = 2.77804e-05\n",
      "Training Observation #1240: Loss = 9.40998e-05\n",
      "Training Observation #1250: Loss = 0.000179736\n",
      "Training Observation #1260: Loss = 0.141412\n",
      "Training Observation #1270: Loss = 0.00120529\n",
      "Training Observation #1280: Loss = 0.00177561\n",
      "Training Observation #1290: Loss = 0.000518835\n",
      "Training Observation #1300: Loss = 0.000263517\n",
      "Training Observation #1310: Loss = 0.00225621\n",
      "Training Observation #1320: Loss = 0.00146273\n",
      "Training Observation #1330: Loss = 0.000311388\n",
      "Training Observation #1340: Loss = 1.07662\n",
      "Training Observation #1350: Loss = 0.00544067\n",
      "Training Observation #1360: Loss = 0.000168739\n",
      "Training Observation #1370: Loss = 4.31152e-07\n",
      "Training Observation #1380: Loss = 0.0617295\n",
      "Training Observation #1390: Loss = 4.97479\n",
      "Training Observation #1400: Loss = 6.78335e-05\n",
      "Training Observation #1410: Loss = 0.000876943\n",
      "Training Observation #1420: Loss = 0.0218916\n",
      "Training Observation #1430: Loss = 0.0012828\n",
      "Training Observation #1440: Loss = 2.59641\n",
      "Training Observation #1450: Loss = 0.00974655\n",
      "Training Observation #1460: Loss = 4.19929e-05\n",
      "Training Observation #1470: Loss = 0.460421\n",
      "Training Observation #1480: Loss = 0.00121001\n",
      "Training Observation #1490: Loss = 0.000167905\n",
      "Training Observation #1500: Loss = 2.59278\n",
      "Training Observation #1510: Loss = 0.00945739\n",
      "Training Observation #1520: Loss = 5.85294\n",
      "Training Observation #1530: Loss = 0.00526647\n",
      "Training Observation #1540: Loss = 0.015951\n",
      "Training Observation #1550: Loss = 0.000975393\n",
      "Training Observation #1560: Loss = 0.000156549\n",
      "Training Observation #1570: Loss = 0.000189162\n",
      "Training Observation #1580: Loss = 0.000656738\n",
      "Training Observation #1590: Loss = 0.00116956\n",
      "Training Observation #1600: Loss = 0.161834\n",
      "Training Observation #1610: Loss = 0.00010154\n",
      "Training Observation #1620: Loss = 1.312\n",
      "Training Observation #1630: Loss = 0.000897444\n",
      "Training Observation #1640: Loss = 0.0117051\n",
      "Training Observation #1650: Loss = 0.00643426\n",
      "Training Observation #1660: Loss = 0.00840182\n",
      "Training Observation #1670: Loss = 0.00175345\n",
      "Training Observation #1680: Loss = 0.00358194\n",
      "Training Observation #1690: Loss = 0.00118526\n",
      "Training Observation #1700: Loss = 0.000355493\n",
      "Training Observation #1710: Loss = 0.000814216\n",
      "Training Observation #1720: Loss = 5.49319e-06\n",
      "Training Observation #1730: Loss = 0.00598321\n",
      "Training Observation #1740: Loss = 1.55247e-05\n",
      "Training Observation #1750: Loss = 0.000221107\n",
      "Training Observation #1760: Loss = 0.00338075\n",
      "Training Observation #1770: Loss = 0.0197768\n",
      "Training Observation #1780: Loss = 0.000547182\n",
      "Training Observation #1790: Loss = 8.42662\n",
      "Training Observation #1800: Loss = 0.466745\n",
      "Training Observation #1810: Loss = 0.00608892\n",
      "Training Observation #1820: Loss = 4.41871e-05\n",
      "Training Observation #1830: Loss = 8.69296e-06\n",
      "Training Observation #1840: Loss = 0.0326766\n",
      "Training Observation #1850: Loss = 0.0909576\n",
      "Training Observation #1860: Loss = 0.000568859\n",
      "Training Observation #1870: Loss = 0.0034418\n",
      "Training Observation #1880: Loss = 5.62818\n",
      "Training Observation #1890: Loss = 0.116249\n",
      "Training Observation #1900: Loss = 8.74811e-07\n",
      "Training Observation #1910: Loss = 7.37527\n",
      "Training Observation #1920: Loss = 0.086606\n",
      "Training Observation #1930: Loss = 0.00391311\n",
      "Training Observation #1940: Loss = 0.000845698\n",
      "Training Observation #1950: Loss = 1.58553\n",
      "Training Observation #1960: Loss = 0.00381753\n",
      "Training Observation #1970: Loss = 0.000634821\n",
      "Training Observation #1980: Loss = 0.00261\n",
      "Training Observation #1990: Loss = 5.74593\n",
      "Training Observation #2000: Loss = 1.53101\n",
      "Training Observation #2010: Loss = 0.573755\n",
      "Training Observation #2020: Loss = 0.091081\n",
      "Training Observation #2030: Loss = 10.1654\n",
      "Training Observation #2040: Loss = 2.99389e-05\n",
      "Training Observation #2050: Loss = 0.000196418\n",
      "Training Observation #2060: Loss = 2.68186e-05\n",
      "Training Observation #2070: Loss = 0.000167064\n",
      "Training Observation #2080: Loss = 0.106499\n",
      "Training Observation #2090: Loss = 0.00100722\n",
      "Training Observation #2100: Loss = 0.0367384\n",
      "Training Observation #2110: Loss = 4.96846\n",
      "Training Observation #2120: Loss = 0.000493067\n",
      "Training Observation #2130: Loss = 2.52678\n",
      "Training Observation #2140: Loss = 0.00853967\n",
      "Training Observation #2150: Loss = 2.28872\n",
      "Training Observation #2160: Loss = 1.62873\n",
      "Training Observation #2170: Loss = 0.0265156\n",
      "Training Observation #2180: Loss = 0.000398289\n",
      "Training Observation #2190: Loss = 0.100676\n",
      "Training Observation #2200: Loss = 0.00429453\n",
      "Training Observation #2210: Loss = 0.00315549\n",
      "Training Observation #2220: Loss = 4.77878e-06\n",
      "Training Observation #2230: Loss = 0.00078537\n",
      "Training Observation #2240: Loss = 5.26079\n",
      "Training Observation #2250: Loss = 0.000291106\n",
      "Training Observation #2260: Loss = 1.12961\n",
      "Training Observation #2270: Loss = 0.00676956\n",
      "Training Observation #2280: Loss = 0.00071802\n",
      "Training Observation #2290: Loss = 12.9432\n",
      "Training Observation #2300: Loss = 0.00873982\n",
      "Training Observation #2310: Loss = 0.0253997\n",
      "Training Observation #2320: Loss = 0.0142401\n",
      "Training Observation #2330: Loss = 0.000244211\n",
      "Training Observation #2340: Loss = 0.00895472\n",
      "Training Observation #2350: Loss = 6.17442e-05\n",
      "Training Observation #2360: Loss = 6.92446\n",
      "Training Observation #2370: Loss = 0.00184856\n",
      "Training Observation #2380: Loss = 2.08595\n",
      "Training Observation #2390: Loss = 0.000166794\n",
      "Training Observation #2400: Loss = 0.307666\n",
      "Training Observation #2410: Loss = 0.000338813\n",
      "Training Observation #2420: Loss = 0.000173173\n",
      "Training Observation #2430: Loss = 0.0171613\n",
      "Training Observation #2440: Loss = 0.00607599\n",
      "Training Observation #2450: Loss = 0.000109539\n",
      "Training Observation #2460: Loss = 0.000190355\n",
      "Training Observation #2470: Loss = 0.00212404\n",
      "Training Observation #2480: Loss = 0.00137951\n",
      "Training Observation #2490: Loss = 0.000163508\n",
      "Training Observation #2500: Loss = 0.00102085\n",
      "Training Observation #2510: Loss = 3.16698\n",
      "Training Observation #2520: Loss = 8.75264\n",
      "Training Observation #2530: Loss = 1.26042\n",
      "Training Observation #2540: Loss = 3.72369e-05\n",
      "Training Observation #2550: Loss = 4.23291\n",
      "Training Observation #2560: Loss = 0.000223255\n",
      "Training Observation #2570: Loss = 0.00222571\n",
      "Training Observation #2580: Loss = 4.78428e-05\n",
      "Training Observation #2590: Loss = 0.000395708\n",
      "Training Observation #2600: Loss = 5.40112e-05\n",
      "Training Observation #2610: Loss = 6.12541e-06\n",
      "Training Observation #2620: Loss = 7.23761\n",
      "Training Observation #2630: Loss = 6.79794\n",
      "Training Observation #2640: Loss = 0.00222946\n",
      "Training Observation #2650: Loss = 3.83829e-06\n",
      "Training Observation #2660: Loss = 7.0499e-05\n",
      "Training Observation #2670: Loss = 0.00158664\n",
      "Training Observation #2680: Loss = 0.000366441\n",
      "Training Observation #2690: Loss = 0.000109369\n",
      "Training Observation #2700: Loss = 0.000108413\n",
      "Training Observation #2710: Loss = 0.000272305\n",
      "Training Observation #2720: Loss = 0.00331319\n",
      "Training Observation #2730: Loss = 0.0042191\n",
      "Training Observation #2740: Loss = 0.0217124\n",
      "Training Observation #2750: Loss = 4.05261\n",
      "Training Observation #2760: Loss = 0.00545638\n",
      "Training Observation #2770: Loss = 0.0149828\n",
      "Training Observation #2780: Loss = 4.56443\n",
      "Training Observation #2790: Loss = 0.0229984\n",
      "Training Observation #2800: Loss = 0.128654\n",
      "Training Observation #2810: Loss = 0.00508549\n",
      "Training Observation #2820: Loss = 8.78744e-09\n",
      "Training Observation #2830: Loss = 2.53787\n",
      "Training Observation #2840: Loss = 0.000480627\n",
      "Training Observation #2850: Loss = 0.000901423\n",
      "Training Observation #2860: Loss = 1.8135\n",
      "Training Observation #2870: Loss = 5.72638\n",
      "Training Observation #2880: Loss = 1.13754\n",
      "Training Observation #2890: Loss = 0.00131672\n",
      "Training Observation #2900: Loss = 0.000396727\n",
      "Training Observation #2910: Loss = 0.0465008\n",
      "Training Observation #2920: Loss = 2.71821\n",
      "Training Observation #2930: Loss = 0.00630605\n",
      "Training Observation #2940: Loss = 0.00228251\n",
      "Training Observation #2950: Loss = 0.00184151\n",
      "Training Observation #2960: Loss = 5.81618e-05\n",
      "Training Observation #2970: Loss = 0.119603\n",
      "Training Observation #2980: Loss = 0.000120104\n",
      "Training Observation #2990: Loss = 0.00115399\n",
      "Training Observation #3000: Loss = 0.000410696\n",
      "Training Observation #3010: Loss = 0.000724803\n",
      "Training Observation #3020: Loss = 0.00712591\n",
      "Training Observation #3030: Loss = 0.00463644\n",
      "Training Observation #3040: Loss = 2.72483\n",
      "Training Observation #3050: Loss = 0.828409\n",
      "Training Observation #3060: Loss = 0.00067468\n",
      "Training Observation #3070: Loss = 0.0109851\n",
      "Training Observation #3080: Loss = 0.000334393\n",
      "Training Observation #3090: Loss = 0.312254\n",
      "Training Observation #3100: Loss = 2.61418\n",
      "Training Observation #3110: Loss = 9.4969e-06\n",
      "Training Observation #3120: Loss = 0.00038713\n",
      "Training Observation #3130: Loss = 0.00433318\n",
      "Training Observation #3140: Loss = 0.00464778\n",
      "Training Observation #3150: Loss = 3.87077\n",
      "Training Observation #3160: Loss = 0.0122973\n",
      "Training Observation #3170: Loss = 0.0285987\n",
      "Training Observation #3180: Loss = 0.00532439\n",
      "Training Observation #3190: Loss = 0.013977\n",
      "Training Observation #3200: Loss = 12.4325\n",
      "Training Observation #3210: Loss = 4.88311\n",
      "Training Observation #3220: Loss = 5.72166\n",
      "Training Observation #3230: Loss = 0.000307598\n",
      "Training Observation #3240: Loss = 0.00438079\n",
      "Training Observation #3250: Loss = 6.77368e-05\n",
      "Training Observation #3260: Loss = 0.00235564\n",
      "Training Observation #3270: Loss = 0.0558286\n",
      "Training Observation #3280: Loss = 5.39449\n",
      "Training Observation #3290: Loss = 0.021399\n",
      "Training Observation #3300: Loss = 0.00230528\n",
      "Training Observation #3310: Loss = 0.00141438\n",
      "Training Observation #3320: Loss = 0.00581662\n",
      "Training Observation #3330: Loss = 0.0183138\n",
      "Training Observation #3340: Loss = 0.00012653\n",
      "Training Observation #3350: Loss = 0.212888\n",
      "Training Observation #3360: Loss = 0.000196873\n",
      "Training Observation #3370: Loss = 0.000197204\n",
      "Training Observation #3380: Loss = 0.00108075\n",
      "Training Observation #3390: Loss = 12.307\n",
      "Training Observation #3400: Loss = 0.0085976\n",
      "Training Observation #3410: Loss = 2.27919\n",
      "Training Observation #3420: Loss = 0.370915\n",
      "Training Observation #3430: Loss = 0.00160115\n",
      "Training Observation #3440: Loss = 0.00179282\n",
      "Training Observation #3450: Loss = 2.79052\n",
      "Training Observation #3460: Loss = 6.41842\n",
      "Training Observation #3470: Loss = 0.586124\n",
      "Training Observation #3480: Loss = 0.902232\n",
      "Training Observation #3490: Loss = 1.97581e-05\n",
      "Training Observation #3500: Loss = 0.0240024\n",
      "Training Observation #3510: Loss = 1.37527e-05\n",
      "Training Observation #3520: Loss = 0.0024462\n",
      "Training Observation #3530: Loss = 3.43653\n",
      "Training Observation #3540: Loss = 0.00115513\n",
      "Training Observation #3550: Loss = 0.00575808\n",
      "Training Observation #3560: Loss = 0.22644\n",
      "Training Observation #3570: Loss = 0.000540085\n",
      "Training Observation #3580: Loss = 0.00082151\n",
      "Training Observation #3590: Loss = 4.31525e-05\n",
      "Training Observation #3600: Loss = 0.000302412\n",
      "Training Observation #3610: Loss = 0.857996\n",
      "Training Observation #3620: Loss = 0.01577\n",
      "Training Observation #3630: Loss = 0.0218573\n",
      "Training Observation #3640: Loss = 0.0114747\n",
      "Training Observation #3650: Loss = 0.0459154\n",
      "Training Observation #3660: Loss = 0.000377326\n",
      "Training Observation #3670: Loss = 0.0399131\n",
      "Training Observation #3680: Loss = 0.390027\n",
      "Training Observation #3690: Loss = 0.00379758\n",
      "Training Observation #3700: Loss = 0.0291584\n",
      "Training Observation #3710: Loss = 0.0816857\n",
      "Training Observation #3720: Loss = 0.000582221\n",
      "Training Observation #3730: Loss = 0.00199638\n",
      "Training Observation #3740: Loss = 0.0231141\n",
      "Training Observation #3750: Loss = 0.00029956\n",
      "Training Observation #3760: Loss = 3.37333\n",
      "Training Observation #3770: Loss = 0.087676\n",
      "Training Observation #3780: Loss = 0.000255297\n",
      "Training Observation #3790: Loss = 0.000127191\n",
      "Training Observation #3800: Loss = 0.00650525\n",
      "Training Observation #3810: Loss = 0.0873599\n",
      "Training Observation #3820: Loss = 0.000594171\n",
      "Training Observation #3830: Loss = 2.49412e-05\n",
      "Training Observation #3840: Loss = 0.0358306\n",
      "Training Observation #3850: Loss = 1.52432e-05\n",
      "Training Observation #3860: Loss = 0.00295604\n",
      "Training Observation #3870: Loss = 0.013064\n",
      "Training Observation #3880: Loss = 0.000252901\n",
      "Training Observation #3890: Loss = 0.00482161\n",
      "Training Observation #3900: Loss = 5.52446\n",
      "Training Observation #3910: Loss = 0.00075801\n",
      "Training Observation #3920: Loss = 8.04803\n",
      "Training Observation #3930: Loss = 0.000287221\n",
      "Training Observation #3940: Loss = 0.00409752\n",
      "Training Observation #3950: Loss = 0.00106913\n",
      "Training Observation #3960: Loss = 0.0029885\n",
      "Training Observation #3970: Loss = 0.0151836\n",
      "Training Observation #3980: Loss = 6.71203\n",
      "Training Observation #3990: Loss = 4.58221e-07\n",
      "Training Observation #4000: Loss = 0.00101556\n",
      "Training Observation #4010: Loss = 0.00143377\n",
      "Training Observation #4020: Loss = 0.00115651\n",
      "Training Observation #4030: Loss = 0.00648909\n",
      "Training Observation #4040: Loss = 0.242594\n",
      "Training Observation #4050: Loss = 1.93178\n",
      "Training Observation #4060: Loss = 0.000148992\n",
      "Training Observation #4070: Loss = 0.00126033\n",
      "Training Observation #4080: Loss = 4.7097\n",
      "Training Observation #4090: Loss = 0.000911132\n",
      "Training Observation #4100: Loss = 0.000194178\n",
      "Training Observation #4110: Loss = 0.232248\n",
      "Training Observation #4120: Loss = 0.00186144\n",
      "Training Observation #4130: Loss = 0.023917\n",
      "Training Observation #4140: Loss = 5.00775e-05\n",
      "Training Observation #4150: Loss = 0.000595998\n",
      "Training Observation #4160: Loss = 9.41828e-05\n",
      "Training Observation #4170: Loss = 0.0018779\n",
      "Training Observation #4180: Loss = 0.00378128\n",
      "Training Observation #4190: Loss = 0.222125\n",
      "Training Observation #4200: Loss = 0.00129744\n",
      "Training Observation #4210: Loss = 0.0139513\n",
      "Training Observation #4220: Loss = 1.85684\n",
      "Training Observation #4230: Loss = 0.000565769\n",
      "Training Observation #4240: Loss = 0.0107048\n",
      "Training Observation #4250: Loss = 0.0125024\n",
      "Training Observation #4260: Loss = 0.00474176\n",
      "Training Observation #4270: Loss = 0.00563052\n",
      "Training Observation #4280: Loss = 0.460632\n",
      "Training Observation #4290: Loss = 0.893874\n",
      "Training Observation #4300: Loss = 3.60111e-05\n",
      "Training Observation #4310: Loss = 0.037454\n",
      "Training Observation #4320: Loss = 0.252161\n",
      "Training Observation #4330: Loss = 0.0222614\n",
      "Training Observation #4340: Loss = 0.0307651\n",
      "Training Observation #4350: Loss = 0.000552436\n",
      "Training Observation #4360: Loss = 6.15293\n",
      "Training Observation #4370: Loss = 8.99724\n",
      "Training Observation #4380: Loss = 0.0107139\n",
      "Training Observation #4390: Loss = 0.00170304\n",
      "Training Observation #4400: Loss = 8.90053\n",
      "Training Observation #4410: Loss = 0.00200741\n",
      "Training Observation #4420: Loss = 2.32807\n",
      "Training Observation #4430: Loss = 4.58358\n",
      "Training Observation #4440: Loss = 0.00064684\n",
      "Training Observation #4450: Loss = 0.000307913\n"
     ]
    }
   ],
   "source": [
    "# Start Logistic Regression\n",
    "print('Starting Training Over {} Sentences.'.format(len(texts_train)))\n",
    "loss_vec = []\n",
    "train_acc_all = []\n",
    "train_acc_avg = []\n",
    "for ix, t in enumerate(vocab_processor.fit_transform(texts_train)):\n",
    "    y_data = [[target_train[ix]]]\n",
    "    \n",
    "    \n",
    "    sess.run(train_step, feed_dict={x_data: t, y_target: y_data})\n",
    "    temp_loss = sess.run(loss, feed_dict={x_data: t, y_target: y_data})\n",
    "    loss_vec.append(temp_loss)\n",
    "    \n",
    "    if (ix+1)%10==0:\n",
    "        print('Training Observation #' + str(ix+1) + ': Loss = ' + str(temp_loss))\n",
    "        \n",
    "    # Keep trailing average of past 50 observations accuracy\n",
    "    # Get prediction of single observation\n",
    "    [[temp_pred]] = sess.run(prediction, feed_dict={x_data:t, y_target:y_data})\n",
    "    # Get True/False if prediction is accurate\n",
    "    train_acc_temp = target_train[ix]==np.round(temp_pred)\n",
    "    train_acc_all.append(train_acc_temp)\n",
    "    if len(train_acc_all) >= 50:\n",
    "        train_acc_avg.append(np.mean(train_acc_all[-50:]))"
   ]
  },
  {
   "cell_type": "markdown",
   "metadata": {
    "deletable": true,
    "editable": true
   },
   "source": [
    "Now that we have a logistic model, we can evaluate the accuracy on the test dataset."
   ]
  },
  {
   "cell_type": "code",
   "execution_count": 14,
   "metadata": {
    "collapsed": false,
    "deletable": true,
    "editable": true
   },
   "outputs": [
    {
     "name": "stdout",
     "output_type": "stream",
     "text": [
      "Getting Test Set Accuracy For 1115 Sentences.\n",
      "Test Observation #50\n",
      "Test Observation #100\n",
      "Test Observation #150\n",
      "Test Observation #200\n",
      "Test Observation #250\n",
      "Test Observation #300\n",
      "Test Observation #350\n",
      "Test Observation #400\n",
      "Test Observation #450\n",
      "Test Observation #500\n",
      "Test Observation #550\n",
      "Test Observation #600\n",
      "Test Observation #650\n",
      "Test Observation #700\n",
      "Test Observation #750\n",
      "Test Observation #800\n",
      "Test Observation #850\n",
      "Test Observation #900\n",
      "Test Observation #950\n",
      "Test Observation #1000\n",
      "Test Observation #1050\n",
      "Test Observation #1100\n",
      "\n",
      "Overall Test Accuracy: 0.7910313901345292\n"
     ]
    }
   ],
   "source": [
    "# Get test set accuracy\n",
    "print('Getting Test Set Accuracy For {} Sentences.'.format(len(texts_test)))\n",
    "test_acc_all = []\n",
    "for ix, t in enumerate(vocab_processor.fit_transform(texts_test)):\n",
    "    y_data = [[target_test[ix]]]\n",
    "    \n",
    "    if (ix+1)%50==0:\n",
    "        print('Test Observation #' + str(ix+1))    \n",
    "    \n",
    "    # Keep trailing average of past 50 observations accuracy\n",
    "    # Get prediction of single observation\n",
    "    [[temp_pred]] = sess.run(prediction, feed_dict={x_data:t, y_target:y_data})\n",
    "    # Get True/False if prediction is accurate\n",
    "    test_acc_temp = target_test[ix]==np.round(temp_pred)\n",
    "    test_acc_all.append(test_acc_temp)\n",
    "\n",
    "print('\\nOverall Test Accuracy: {}'.format(np.mean(test_acc_all)))"
   ]
  },
  {
   "cell_type": "markdown",
   "metadata": {
    "deletable": true,
    "editable": true
   },
   "source": [
    "Let's look at the training accuracy over all the iterations."
   ]
  },
  {
   "cell_type": "code",
   "execution_count": 15,
   "metadata": {
    "collapsed": false,
    "deletable": true,
    "editable": true
   },
   "outputs": [
    {
     "data": {
      "image/png": "[encoded data removed]",
      "text/plain": [
       "<matplotlib.figure.Figure at 0x7f5d11d5e828>"
      ]
     },
     "metadata": {},
     "output_type": "display_data"
    }
   ],
   "source": [
    "%matplotlib inline\n",
    "# Plot training accuracy over time\n",
    "plt.plot(range(len(train_acc_avg)), train_acc_avg, 'k-', label='Train Accuracy')\n",
    "plt.title('Avg Training Acc Over Past 50 Iterations')\n",
    "plt.xlabel('Iterations')\n",
    "plt.ylabel('Training Accuracy')\n",
    "plt.show()"
   ]
  },
  {
   "cell_type": "markdown",
   "metadata": {},
   "source": [
    "It is worthwhile to mention the motivation of limiting the sentence (or text) size.  In this example we limited the text size to 25 words.  This is a common practice with bag of words because it limits the effect of text length on the prediction.  You can imagine that if we find a word, “meeting” for example, that is predictive of a text being ham (not spam), then a spam message might get through by putting in many occurrences of that word at the end.  In fact, this is a common problem with imbalanced target data.  Imbalanced data might occur in this situation, since spam may be hard to find and ham may be easy to find.  Because of this fact, our vocabulary that we create might be heavily skewed toward words represented in the ham part of our data (more ham means more words are represented in ham than spam).  If we allow unlimited length of texts, then spammers might take advantage of this and create very long texts, which have a higher probability of triggering non-spam word factors in our logistic model.\n",
    "\n",
    "In the next section, we attempt to tackle this problem in a better way using the frequency of word occurrence to determine the values of the word embeddings."
   ]
  }
 ],
 "metadata": {
  "kernelspec": {
   "display_name": "Python 3",
   "language": "python",
   "name": "python3"
  },
  "language_info": {
   "codemirror_mode": {
    "name": "ipython",
    "version": 3
   },
   "file_extension": ".py",
   "mimetype": "text/x-python",
   "name": "python",
   "nbconvert_exporter": "python",
   "pygments_lexer": "ipython3",
   "version": "3.6.1"
  }
 },
 "nbformat": 4,
 "nbformat_minor": 2
}
